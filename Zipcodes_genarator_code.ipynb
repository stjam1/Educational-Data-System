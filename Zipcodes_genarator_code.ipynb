{
  "nbformat": 4,
  "nbformat_minor": 0,
  "metadata": {
    "colab": {
      "provenance": []
    },
    "kernelspec": {
      "name": "python3",
      "display_name": "Python 3"
    },
    "language_info": {
      "name": "python"
    },
    "accelerator": "GPU",
    "gpuClass": "standard"
  },
  "cells": [
    {
      "cell_type": "code",
      "execution_count": null,
      "metadata": {
        "id": "Q7VdZUCNA6zZ"
      },
      "outputs": [],
      "source": [
        "import pandas as pd\n"
      ]
    },
    {
      "cell_type": "code",
      "source": [
        "df = pd.read_excel(r'lat_long.xlsx')"
      ],
      "metadata": {
        "id": "hZD_fQmCBDet"
      },
      "execution_count": null,
      "outputs": []
    },
    {
      "cell_type": "code",
      "source": [
        "import geopy\n",
        "import pandas as pd\n",
        "\n",
        "\n",
        "def get_zipcode(df, geolocator, lat_field, lon_field, attempt=1, max_attempts=10):\n",
        "    try:\n",
        "        location = geolocator.reverse((df[lat_field], df[lon_field]), timeout=None)\n",
        "        return location.raw['address']['postcode']\n",
        "    except KeyError:\n",
        "        pass\n",
        "    except GeocoderTimedOut:\n",
        "        if attempt <= max_attempts:\n",
        "            return get_zipcode (df, attempt=attempt+1)\n",
        "        raise "
      ],
      "metadata": {
        "id": "c7AwzQZMBLjz"
      },
      "execution_count": null,
      "outputs": []
    },
    {
      "cell_type": "code",
      "source": [
        "geolocator = geopy.Nominatim(user_agent=\"http\")\n",
        "\n",
        "\n",
        "zipcodes = df.apply(get_zipcode, axis=1, geolocator=geolocator, lat_field='lat_y', lon_field='long_x')\n"
      ],
      "metadata": {
        "id": "9fAECEELBM7P"
      },
      "execution_count": null,
      "outputs": []
    },
    {
      "cell_type": "code",
      "source": [
        "print(zipcodes)"
      ],
      "metadata": {
        "colab": {
          "base_uri": "https://localhost:8080/"
        },
        "id": "UQGc9PsMlNVT",
        "outputId": "53ae7be2-ad19-404b-a7c8-1b19366a1605"
      },
      "execution_count": null,
      "outputs": [
        {
          "output_type": "stream",
          "name": "stdout",
          "text": [
            "0       35810\n",
            "1       35294\n",
            "2       36117\n",
            "3       35899\n",
            "4       36106\n",
            "        ...  \n",
            "3793    28314\n",
            "3794    92025\n",
            "3795    63146\n",
            "3796    55435\n",
            "3797    55430\n",
            "Length: 3798, dtype: object\n"
          ]
        }
      ]
    },
    {
      "cell_type": "code",
      "source": [
        "list(zipcodes)\n",
        "print(zipcodes)"
      ],
      "metadata": {
        "colab": {
          "base_uri": "https://localhost:8080/"
        },
        "id": "F1ZwlzupNIWM",
        "outputId": "4c14c64c-693b-41f5-cd58-3c664c932c5c"
      },
      "execution_count": null,
      "outputs": [
        {
          "output_type": "stream",
          "name": "stdout",
          "text": [
            "0       35810\n",
            "1       35294\n",
            "2       36117\n",
            "3       35899\n",
            "4       36106\n",
            "        ...  \n",
            "3793    28314\n",
            "3794    92025\n",
            "3795    63146\n",
            "3796    55435\n",
            "3797    55430\n",
            "Length: 3798, dtype: object\n"
          ]
        }
      ]
    },
    {
      "cell_type": "code",
      "source": [
        "df = pd.DataFrame(zipcodes)"
      ],
      "metadata": {
        "id": "Cet4ViP1NUJR"
      },
      "execution_count": null,
      "outputs": []
    },
    {
      "cell_type": "code",
      "source": [
        "\n",
        "df.to_excel(r'zipcodes.xlsx', index=False)"
      ],
      "metadata": {
        "id": "xmofYteMNezW"
      },
      "execution_count": null,
      "outputs": []
    }
  ]
}